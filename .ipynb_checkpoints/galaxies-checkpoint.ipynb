{
 "cells": [
  {
   "cell_type": "code",
   "execution_count": null,
   "id": "e77ec9c8",
   "metadata": {},
   "outputs": [],
   "source": [
    "import tensorflow as tf\n",
    "from tensorflow.keras.preprocessing.image import ImageDataGenerator\n",
    "\n",
    "from sklearn.model_selection import train_test_split\n",
    "from utils import load_galaxy_data\n",
    "\n",
    "import app\n",
    "from visualize import visualize_activations"
   ]
  },
  {
   "cell_type": "code",
   "execution_count": null,
   "id": "021e0d61",
   "metadata": {},
   "outputs": [],
   "source": [
    "input_data, labels = load_galaxy_data()\n",
    "print(input_data.shape)\n",
    "print(labels.shape)"
   ]
  },
  {
   "cell_type": "code",
   "execution_count": null,
   "id": "56e863ad",
   "metadata": {},
   "outputs": [],
   "source": [
    "x_train, x_valid, y_train, y_valid = train_test_split(input_data, labels, test_size=0.20, stratify=labels, shuffle=True, random_state=222)"
   ]
  },
  {
   "cell_type": "code",
   "execution_count": null,
   "id": "d80dd3c1",
   "metadata": {},
   "outputs": [],
   "source": [
    "data_generator = ImageDataGenerator(rescale=1.0/255)\n",
    "training_iterator = data_generator.flow(x_train, y_train,batch_size=5)\n",
    "validation_iterator = data_generator.flow(x_valid, y_valid, batch_size=5)"
   ]
  },
  {
   "cell_type": "code",
   "execution_count": null,
   "id": "78d77193",
   "metadata": {},
   "outputs": [],
   "source": [
    "model = tf.keras.Sequential()\n",
    "model.add(tf.keras.Input(shape=(128, 128, 3)))\n",
    "model.add(tf.keras.layers.Conv2D(8, 3, strides=2, activation=\"relu\")) \n",
    "model.add(tf.keras.layers.MaxPooling2D(\n",
    "    pool_size=(2, 2), strides=(2,2)))\n",
    "model.add(tf.keras.layers.Conv2D(8, 3, strides=2, activation=\"relu\")) \n",
    "model.add(tf.keras.layers.MaxPooling2D(\n",
    "    pool_size=(2,2), strides=(2,2)))\n",
    "model.add(tf.keras.layers.Flatten())\n",
    "model.add(tf.keras.layers.Dense(16, activation=\"relu\"))\n",
    "model.add(tf.keras.layers.Dense(4, activation=\"softmax\"))\n",
    "\n",
    "model.summary()"
   ]
  },
  {
   "cell_type": "code",
   "execution_count": null,
   "id": "d5b65553",
   "metadata": {},
   "outputs": [],
   "source": [
    "model.compile(\n",
    "    optimizer=tf.keras.optimizers.Adam(learning_rate=0.001),\n",
    "    loss=tf.keras.losses.CategoricalCrossentropy(),\n",
    "    metrics=[tf.keras.metrics.CategoricalAccuracy(),tf.keras.metrics.AUC()])\n",
    "\n",
    "model.fit(\n",
    "        training_iterator,\n",
    "        steps_per_epoch=len(x_train)/5,\n",
    "        epochs=12,\n",
    "        validation_data=validation_iterator,\n",
    "        validation_steps=len(x_valid)/5)"
   ]
  },
  {
   "cell_type": "code",
   "execution_count": null,
   "id": "a5e9a72b",
   "metadata": {},
   "outputs": [],
   "source": [
    "visualize_activations(model,validation_iterator)"
   ]
  }
 ],
 "metadata": {
  "kernelspec": {
   "display_name": "Python 3",
   "language": "python",
   "name": "python3"
  },
  "language_info": {
   "codemirror_mode": {
    "name": "ipython",
    "version": 3
   },
   "file_extension": ".py",
   "mimetype": "text/x-python",
   "name": "python",
   "nbconvert_exporter": "python",
   "pygments_lexer": "ipython3",
   "version": "3.8.5"
  }
 },
 "nbformat": 4,
 "nbformat_minor": 5
}
